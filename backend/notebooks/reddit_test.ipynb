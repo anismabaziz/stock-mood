{
 "cells": [
  {
   "cell_type": "code",
   "execution_count": 7,
   "id": "796b758b",
   "metadata": {},
   "outputs": [
    {
     "data": {
      "text/plain": [
       "True"
      ]
     },
     "execution_count": 7,
     "metadata": {},
     "output_type": "execute_result"
    }
   ],
   "source": [
    "import praw\n",
    "import os\n",
    "from dotenv import load_dotenv\n",
    "\n",
    "# Loading .env variables\n",
    "load_dotenv()"
   ]
  },
  {
   "cell_type": "code",
   "execution_count": 9,
   "id": "e473627a",
   "metadata": {},
   "outputs": [],
   "source": [
    "# Setup reddit client\n",
    "reddit = praw.Reddit(\n",
    "    client_id=os.getenv(\"reddit_client_id\"),\n",
    "    client_secret=os.getenv(\"reddit_client_secret\"),\n",
    "    user_agent=os.getenv(\"reddit_user_agent\")\n",
    ")"
   ]
  },
  {
   "cell_type": "code",
   "execution_count": 10,
   "id": "db7de043",
   "metadata": {},
   "outputs": [
    {
     "name": "stdout",
     "output_type": "stream",
     "text": [
      "Testing Reddit API connection...\n",
      "\n",
      "Sunday Daily Thread: What's everyone working on this week?\n",
      "Saturday Daily Thread: Resource Request and Sharing! Daily Thread\n",
      "After #ruff and #uv, #astral announced their next tool for the python ecosystem\n",
      "Best way to install python package with all its dependencies on an offline pc.\n",
      "DVD Bouncing Animation\n"
     ]
    }
   ],
   "source": [
    "# Client test\n",
    "subreddit = reddit.subreddit(\"python\")\n",
    "print(\"Testing Reddit API connection...\\n\")\n",
    "for post in subreddit.hot(limit=5):\n",
    "    print(post.title)"
   ]
  },
  {
   "cell_type": "code",
   "execution_count": 11,
   "id": "d8afc062",
   "metadata": {},
   "outputs": [
    {
     "name": "stdout",
     "output_type": "stream",
     "text": [
      "\n",
      "Fetching posts about 'AAPL' from r/stocks...\n",
      "\n",
      "1. I have $213,000 in Apple (AAPL) stock, should I start to diversify? (Score: 2452)\n",
      "URL: https://reddit.com/r/stocks/comments/ja9wv0/i_have_213000_in_apple_aapl_stock_should_i_start/\n",
      "\n",
      "2. Buy AAPL in front of 4:1 stock split. Stock splits add 8% in first year following split. (Score: 1652)\n",
      "URL: https://reddit.com/r/stocks/comments/i5gdxx/buy_aapl_in_front_of_41_stock_split_stock_splits/\n",
      "\n",
      "3. Microsoft (MSFT) and Apple (AAPL) are Now Bigger than Germany’s Entire Stock Market (Score: 1199)\n",
      "URL: https://reddit.com/r/stocks/comments/egpgom/microsoft_msft_and_apple_aapl_are_now_bigger_than/\n",
      "\n",
      "4. AAPL - 26,527.62% return over 25 years (Score: 987)\n",
      "URL: https://reddit.com/r/stocks/comments/1iej3mb/aapl_2652762_return_over_25_years/\n",
      "\n",
      "5. Apple (AAPL.US) continues to increase financial services, and its subsidiaries will provide loans in the future (Score: 881)\n",
      "URL: https://reddit.com/r/stocks/comments/v85y4y/apple_aaplus_continues_to_increase_financial/\n",
      "\n",
      "6. AAPL is at 52-week low! (Score: 869)\n",
      "URL: https://reddit.com/r/stocks/comments/zsuvnl/aapl_is_at_52week_low/\n",
      "\n",
      "7. I SOLD AAPL :( (Score: 838)\n",
      "URL: https://reddit.com/r/stocks/comments/wqy6lj/i_sold_aapl/\n",
      "\n",
      "8. The moment AAPL announced ending partnership with INTC, INTC stock price ... JUMPED by 1% (Score: 796)\n",
      "URL: https://reddit.com/r/stocks/comments/hdyke6/the_moment_aapl_announced_ending_partnership_with/\n",
      "\n",
      "9. China plans to expand its ban on iPhones, AAPL drops 3%+ (Score: 773)\n",
      "URL: https://reddit.com/r/stocks/comments/16cfl90/china_plans_to_expand_its_ban_on_iphones_aapl/\n",
      "\n",
      "10. AAPL price drops 5% as it beats earnings (Score: 755)\n",
      "URL: https://reddit.com/r/stocks/comments/jkio6d/aapl_price_drops_5_as_it_beats_earnings/\n",
      "\n"
     ]
    }
   ],
   "source": [
    "### Fetch stock by name\n",
    "\n",
    "# Provide stock symbol\n",
    "stock_symbol = \"AAPL\"\n",
    "\n",
    "# Get r/stocks subreddit\n",
    "subreddit = reddit.subreddit(\"stocks\")\n",
    "\n",
    "# Search query with the stock symbol\n",
    "query = f'title:{stock_symbol}'\n",
    "print(f\"\\nFetching posts about '{stock_symbol}' from r/stocks...\\n\")\n",
    "\n",
    "# Search result\n",
    "results = subreddit.search(query, limit=10, sort='top')\n",
    "\n",
    "# Display posts result\n",
    "for i, post in enumerate(results, 1):\n",
    "        print(f\"{i}. {post.title} (Score: {post.score})\")\n",
    "        print(f\"URL: https://reddit.com{post.permalink}\\n\")"
   ]
  }
 ],
 "metadata": {
  "kernelspec": {
   "display_name": ".venv",
   "language": "python",
   "name": "python3"
  },
  "language_info": {
   "codemirror_mode": {
    "name": "ipython",
    "version": 3
   },
   "file_extension": ".py",
   "mimetype": "text/x-python",
   "name": "python",
   "nbconvert_exporter": "python",
   "pygments_lexer": "ipython3",
   "version": "3.11.11"
  }
 },
 "nbformat": 4,
 "nbformat_minor": 5
}
