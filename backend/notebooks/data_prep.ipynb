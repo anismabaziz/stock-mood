{
 "cells": [
  {
   "cell_type": "code",
   "execution_count": null,
   "id": "d07a2b57",
   "metadata": {},
   "outputs": [],
   "source": [
    "import pandas as pd"
   ]
  },
  {
   "cell_type": "code",
   "execution_count": 5,
   "id": "82d331f4",
   "metadata": {},
   "outputs": [
    {
     "data": {
      "text/html": [
       "<div>\n",
       "<style scoped>\n",
       "    .dataframe tbody tr th:only-of-type {\n",
       "        vertical-align: middle;\n",
       "    }\n",
       "\n",
       "    .dataframe tbody tr th {\n",
       "        vertical-align: top;\n",
       "    }\n",
       "\n",
       "    .dataframe thead th {\n",
       "        text-align: right;\n",
       "    }\n",
       "</style>\n",
       "<table border=\"1\" class=\"dataframe\">\n",
       "  <thead>\n",
       "    <tr style=\"text-align: right;\">\n",
       "      <th></th>\n",
       "      <th>sentiment</th>\n",
       "      <th>text</th>\n",
       "    </tr>\n",
       "  </thead>\n",
       "  <tbody>\n",
       "    <tr>\n",
       "      <th>0</th>\n",
       "      <td>neutral</td>\n",
       "      <td>According to Gran , the company has no plans t...</td>\n",
       "    </tr>\n",
       "    <tr>\n",
       "      <th>1</th>\n",
       "      <td>neutral</td>\n",
       "      <td>Technopolis plans to develop in stages an area...</td>\n",
       "    </tr>\n",
       "    <tr>\n",
       "      <th>2</th>\n",
       "      <td>negative</td>\n",
       "      <td>The international electronic industry company ...</td>\n",
       "    </tr>\n",
       "    <tr>\n",
       "      <th>3</th>\n",
       "      <td>positive</td>\n",
       "      <td>With the new production plant the company woul...</td>\n",
       "    </tr>\n",
       "    <tr>\n",
       "      <th>4</th>\n",
       "      <td>positive</td>\n",
       "      <td>According to the company 's updated strategy f...</td>\n",
       "    </tr>\n",
       "  </tbody>\n",
       "</table>\n",
       "</div>"
      ],
      "text/plain": [
       "  sentiment                                               text\n",
       "0   neutral  According to Gran , the company has no plans t...\n",
       "1   neutral  Technopolis plans to develop in stages an area...\n",
       "2  negative  The international electronic industry company ...\n",
       "3  positive  With the new production plant the company woul...\n",
       "4  positive  According to the company 's updated strategy f..."
      ]
     },
     "execution_count": 5,
     "metadata": {},
     "output_type": "execute_result"
    }
   ],
   "source": [
    "df = pd.read_json(\"hf://datasets/Daniel-ML/sentiment-analysis-for-financial-news-v2/pd_df_json.json\", lines=True)\n",
    "df.head()"
   ]
  },
  {
   "cell_type": "code",
   "execution_count": 6,
   "id": "83118b2c",
   "metadata": {},
   "outputs": [
    {
     "name": "stdout",
     "output_type": "stream",
     "text": [
      "<bound method NDFrame.head of      sentiment                                               text\n",
      "0      neutral  According to Gran , the company has no plans t...\n",
      "1      neutral  Technopolis plans to develop in stages an area...\n",
      "2     negative  The international electronic industry company ...\n",
      "3     positive  With the new production plant the company woul...\n",
      "4     positive  According to the company 's updated strategy f...\n",
      "...        ...                                                ...\n",
      "4841  negative  LONDON MarketWatch -- Share prices ended lower...\n",
      "4842   neutral  Rinkuskiai 's beer sales fell by 6.5 per cent ...\n",
      "4843  negative  Operating profit fell to EUR 35.4 mn from EUR ...\n",
      "4844  negative  Net sales of the Paper segment decreased to EU...\n",
      "4845  negative  Sales in Finland decreased by 10.5 % in Januar...\n",
      "\n",
      "[4846 rows x 2 columns]>\n",
      "<class 'pandas.core.frame.DataFrame'>\n",
      "RangeIndex: 4846 entries, 0 to 4845\n",
      "Data columns (total 2 columns):\n",
      " #   Column     Non-Null Count  Dtype \n",
      "---  ------     --------------  ----- \n",
      " 0   sentiment  4846 non-null   object\n",
      " 1   text       4846 non-null   object\n",
      "dtypes: object(2)\n",
      "memory usage: 75.8+ KB\n",
      "None\n"
     ]
    }
   ],
   "source": [
    "# keeping only important columns\n",
    "df = df.dropna()\n",
    "print(df.head)\n",
    "print(df.info())"
   ]
  },
  {
   "cell_type": "code",
   "execution_count": 8,
   "id": "e00fa73b",
   "metadata": {},
   "outputs": [
    {
     "name": "stdout",
     "output_type": "stream",
     "text": [
      "  sentiment                                               text  words_count\n",
      "0   neutral  According to Gran , the company has no plans t...           22\n",
      "1   neutral  Technopolis plans to develop in stages an area...           28\n",
      "2  negative  The international electronic industry company ...           33\n",
      "3  positive  With the new production plant the company woul...           32\n",
      "4  positive  According to the company 's updated strategy f...           30\n"
     ]
    }
   ],
   "source": [
    "# counting words\n",
    "import spacy\n",
    "nlp = spacy.load(\"en_core_web_sm\")\n",
    "\n",
    "def count_words(text):\n",
    "  doc = nlp(text)\n",
    "  words = [token for token in doc if token.is_alpha]\n",
    "  return len(words)\n",
    "\n",
    "df[\"words_count\"] = df[\"text\"].apply(count_words)\n",
    "print(df.head())"
   ]
  },
  {
   "cell_type": "code",
   "execution_count": 10,
   "id": "92e562ab",
   "metadata": {},
   "outputs": [
    {
     "name": "stderr",
     "output_type": "stream",
     "text": [
      "[nltk_data] Downloading package vader_lexicon to\n",
      "[nltk_data]     /Users/abaziz/nltk_data...\n",
      "[nltk_data]   Package vader_lexicon is already up-to-date!\n"
     ]
    },
    {
     "name": "stdout",
     "output_type": "stream",
     "text": [
      "  sentiment                                               text  words_count  \\\n",
      "0   neutral  According to Gran , the company has no plans t...           22   \n",
      "1   neutral  Technopolis plans to develop in stages an area...           28   \n",
      "2  negative  The international electronic industry company ...           33   \n",
      "3  positive  With the new production plant the company woul...           32   \n",
      "4  positive  According to the company 's updated strategy f...           30   \n",
      "\n",
      "     neg    neu    pos  compound  \n",
      "0  0.092  0.837  0.071   -0.1280  \n",
      "1  0.073  0.927  0.000   -0.2960  \n",
      "2  0.000  1.000  0.000    0.0000  \n",
      "3  0.038  0.660  0.302    0.8555  \n",
      "4  0.000  0.853  0.147    0.6705  \n"
     ]
    }
   ],
   "source": [
    "# Vader scores\n",
    "import nltk\n",
    "from nltk.sentiment.vader import SentimentIntensityAnalyzer\n",
    "nltk.download('vader_lexicon')\n",
    "\n",
    "\n",
    "\n",
    "vader = SentimentIntensityAnalyzer()\n",
    "\n",
    "def vader_analysis(text):\n",
    "  return vader.polarity_scores(text)\n",
    "\n",
    "df_vader = df['text'].apply(vader_analysis).apply(pd.Series)\n",
    "\n",
    "df = pd.concat([df, df_vader], axis=1)\n",
    "\n",
    "print(df.head())"
   ]
  },
  {
   "cell_type": "code",
   "execution_count": 12,
   "id": "10103395",
   "metadata": {},
   "outputs": [
    {
     "data": {
      "text/html": [
       "<div>\n",
       "<style scoped>\n",
       "    .dataframe tbody tr th:only-of-type {\n",
       "        vertical-align: middle;\n",
       "    }\n",
       "\n",
       "    .dataframe tbody tr th {\n",
       "        vertical-align: top;\n",
       "    }\n",
       "\n",
       "    .dataframe thead th {\n",
       "        text-align: right;\n",
       "    }\n",
       "</style>\n",
       "<table border=\"1\" class=\"dataframe\">\n",
       "  <thead>\n",
       "    <tr style=\"text-align: right;\">\n",
       "      <th></th>\n",
       "      <th>sentiment</th>\n",
       "      <th>text</th>\n",
       "      <th>words_count</th>\n",
       "      <th>neg</th>\n",
       "      <th>neu</th>\n",
       "      <th>pos</th>\n",
       "      <th>compound</th>\n",
       "      <th>sentiment_encoded</th>\n",
       "    </tr>\n",
       "  </thead>\n",
       "  <tbody>\n",
       "    <tr>\n",
       "      <th>0</th>\n",
       "      <td>neutral</td>\n",
       "      <td>According to Gran , the company has no plans t...</td>\n",
       "      <td>22</td>\n",
       "      <td>0.092</td>\n",
       "      <td>0.837</td>\n",
       "      <td>0.071</td>\n",
       "      <td>-0.1280</td>\n",
       "      <td>1</td>\n",
       "    </tr>\n",
       "    <tr>\n",
       "      <th>1</th>\n",
       "      <td>neutral</td>\n",
       "      <td>Technopolis plans to develop in stages an area...</td>\n",
       "      <td>28</td>\n",
       "      <td>0.073</td>\n",
       "      <td>0.927</td>\n",
       "      <td>0.000</td>\n",
       "      <td>-0.2960</td>\n",
       "      <td>1</td>\n",
       "    </tr>\n",
       "    <tr>\n",
       "      <th>2</th>\n",
       "      <td>negative</td>\n",
       "      <td>The international electronic industry company ...</td>\n",
       "      <td>33</td>\n",
       "      <td>0.000</td>\n",
       "      <td>1.000</td>\n",
       "      <td>0.000</td>\n",
       "      <td>0.0000</td>\n",
       "      <td>0</td>\n",
       "    </tr>\n",
       "    <tr>\n",
       "      <th>3</th>\n",
       "      <td>positive</td>\n",
       "      <td>With the new production plant the company woul...</td>\n",
       "      <td>32</td>\n",
       "      <td>0.038</td>\n",
       "      <td>0.660</td>\n",
       "      <td>0.302</td>\n",
       "      <td>0.8555</td>\n",
       "      <td>2</td>\n",
       "    </tr>\n",
       "    <tr>\n",
       "      <th>4</th>\n",
       "      <td>positive</td>\n",
       "      <td>According to the company 's updated strategy f...</td>\n",
       "      <td>30</td>\n",
       "      <td>0.000</td>\n",
       "      <td>0.853</td>\n",
       "      <td>0.147</td>\n",
       "      <td>0.6705</td>\n",
       "      <td>2</td>\n",
       "    </tr>\n",
       "  </tbody>\n",
       "</table>\n",
       "</div>"
      ],
      "text/plain": [
       "  sentiment                                               text  words_count  \\\n",
       "0   neutral  According to Gran , the company has no plans t...           22   \n",
       "1   neutral  Technopolis plans to develop in stages an area...           28   \n",
       "2  negative  The international electronic industry company ...           33   \n",
       "3  positive  With the new production plant the company woul...           32   \n",
       "4  positive  According to the company 's updated strategy f...           30   \n",
       "\n",
       "     neg    neu    pos  compound  sentiment_encoded  \n",
       "0  0.092  0.837  0.071   -0.1280                  1  \n",
       "1  0.073  0.927  0.000   -0.2960                  1  \n",
       "2  0.000  1.000  0.000    0.0000                  0  \n",
       "3  0.038  0.660  0.302    0.8555                  2  \n",
       "4  0.000  0.853  0.147    0.6705                  2  "
      ]
     },
     "execution_count": 12,
     "metadata": {},
     "output_type": "execute_result"
    }
   ],
   "source": [
    "# encoding labels\n",
    "label_map = {\n",
    "    \"negative\": 0,\n",
    "    \"neutral\": 1,\n",
    "    \"positive\": 2\n",
    "}\n",
    "df['sentiment_encoded'] = df['sentiment'].map(label_map)\n",
    "df.head()"
   ]
  },
  {
   "cell_type": "code",
   "execution_count": 13,
   "id": "e4f53677",
   "metadata": {},
   "outputs": [],
   "source": [
    "# undersampling\n",
    "min_class = df[\"sentiment_encoded\"].value_counts().min()\n",
    "df_balanced = df.groupby(\"sentiment_encoded\").sample(n=min_class, random_state=42)\n",
    "df_balanced = df_balanced.sample(frac=1, random_state=42).reset_index(drop=True)"
   ]
  },
  {
   "cell_type": "code",
   "execution_count": 15,
   "id": "6bbd5e73",
   "metadata": {},
   "outputs": [],
   "source": [
    "df_balanced.to_csv('../data/news_postprocess.csv', index=False, sep=\";\")"
   ]
  },
  {
   "cell_type": "code",
   "execution_count": null,
   "id": "b80b5003",
   "metadata": {},
   "outputs": [],
   "source": []
  }
 ],
 "metadata": {
  "kernelspec": {
   "display_name": ".venv",
   "language": "python",
   "name": "python3"
  },
  "language_info": {
   "codemirror_mode": {
    "name": "ipython",
    "version": 3
   },
   "file_extension": ".py",
   "mimetype": "text/x-python",
   "name": "python",
   "nbconvert_exporter": "python",
   "pygments_lexer": "ipython3",
   "version": "3.11.11"
  }
 },
 "nbformat": 4,
 "nbformat_minor": 5
}
