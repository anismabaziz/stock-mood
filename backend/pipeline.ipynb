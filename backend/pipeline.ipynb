{
 "cells": [
  {
   "cell_type": "markdown",
   "id": "2b2ed026",
   "metadata": {},
   "source": [
    "#### Fetch Stock Posts"
   ]
  },
  {
   "cell_type": "code",
   "execution_count": 1,
   "id": "fff6e0b3",
   "metadata": {},
   "outputs": [],
   "source": [
    "# Get stock name\n",
    "stock_symbol = \"AAPL\""
   ]
  },
  {
   "cell_type": "code",
   "execution_count": 8,
   "id": "cdfd96fc",
   "metadata": {},
   "outputs": [
    {
     "name": "stdout",
     "output_type": "stream",
     "text": [
      "I have $213,000 in Apple (AAPL) stock, should I start to diversify?\n"
     ]
    }
   ],
   "source": [
    "# Reddit posts fetching\n",
    "\n",
    "## Import libraries \n",
    "import praw\n",
    "import os\n",
    "from dotenv import load_dotenv\n",
    "\n",
    "load_dotenv()\n",
    "\n",
    "## Setup\n",
    "reddit = praw.Reddit(\n",
    "    client_id=os.getenv(\"reddit_client_id\"),\n",
    "    client_secret=os.getenv(\"reddit_client_secret\"),\n",
    "    user_agent=os.getenv(\"reddit_user_agent\")\n",
    ")\n",
    "\n",
    "def fetch_posts(stock_symbol):\n",
    "  ### subreddit\n",
    "  subreddit = reddit.subreddit(\"stocks\")\n",
    "\n",
    "  ### search query\n",
    "  query = f'title:{stock_symbol}'\n",
    "\n",
    "  ### fetch posts\n",
    "  results = subreddit.search(query, limit=10, sort='top')\n",
    "\n",
    "  return results\n",
    "\n",
    "## Call function\n",
    "apple_posts = fetch_posts(stock_symbol)\n",
    "\n",
    "## Print first post\n",
    "first = next(apple_posts)\n",
    "print(first.title)"
   ]
  },
  {
   "cell_type": "markdown",
   "id": "50ea93d3",
   "metadata": {},
   "source": [
    "#### Text Preparation"
   ]
  },
  {
   "cell_type": "code",
   "execution_count": 9,
   "id": "aa6f1b83",
   "metadata": {},
   "outputs": [
    {
     "name": "stdout",
     "output_type": "stream",
     "text": [
      "I have 213,000 in Apple AAPL stock, should I start to diversify? I always tell myself to stop buying Apple, but I always give in because Apple is such a cash machine. Would you start diversifying new money in companies such as Square SQ, Microsoft MSFT and Amazon AMZN. Or would you keep adding more to Apple AAPL? Edit Apple AAPL is my entire portfolio, don't own anything else. Second Edit Damn this blew up.\n"
     ]
    }
   ],
   "source": [
    "## Import libraries\n",
    "import re\n",
    "\n",
    "## Concatenate body with title\n",
    "text = f\"{first.title}\\n{first.selftext}\"\n",
    "\n",
    "## Clean text \n",
    "def clean_text(text):\n",
    "    text = re.sub(r'http\\S+', '', text)  ### remove links\n",
    "    text = re.sub(r'\\s+', ' ', text)     ### collapse whitespace\n",
    "    text = re.sub(r'[^\\w\\s.,!?\\'\"]', '', text)  ### remove unwanted chars\n",
    "    return text.strip()\n",
    "\n",
    "cleaned_text = clean_text(text)\n",
    "print(cleaned_text)"
   ]
  },
  {
   "cell_type": "markdown",
   "id": "43c23dce",
   "metadata": {},
   "source": [
    "#### Text Embedding"
   ]
  },
  {
   "cell_type": "code",
   "execution_count": 11,
   "id": "4d11b1bc",
   "metadata": {},
   "outputs": [
    {
     "name": "stderr",
     "output_type": "stream",
     "text": [
      "No sentence-transformers model found with name yiyanghkust/finbert-tone. Creating a new one with mean pooling.\n"
     ]
    },
    {
     "name": "stdout",
     "output_type": "stream",
     "text": [
      "(768,)\n"
     ]
    }
   ],
   "source": [
    "## Import libraries\n",
    "from sentence_transformers import SentenceTransformer\n",
    "\n",
    "## Generate embeddings\n",
    "embedding_model = SentenceTransformer(\"yiyanghkust/finbert-tone\")\n",
    "embedding = embedding_model.encode(text)\n",
    "\n",
    "print(embedding.shape)"
   ]
  },
  {
   "cell_type": "markdown",
   "id": "66a0299f",
   "metadata": {},
   "source": [
    "#### Model Prediction"
   ]
  },
  {
   "cell_type": "code",
   "execution_count": 24,
   "id": "c96e4281",
   "metadata": {},
   "outputs": [
    {
     "name": "stdout",
     "output_type": "stream",
     "text": [
      "Original embedding shape: (768,)\n",
      "Dimensions: (1, 768)\n",
      "WARNING:tensorflow:5 out of the last 5 calls to <function TensorFlowTrainer.make_predict_function.<locals>.one_step_on_data_distributed at 0x31298a340> triggered tf.function retracing. Tracing is expensive and the excessive number of tracings could be due to (1) creating @tf.function repeatedly in a loop, (2) passing tensors with different shapes, (3) passing Python objects instead of tensors. For (1), please define your @tf.function outside of the loop. For (2), @tf.function has reduce_retracing=True option that can avoid unnecessary retracing. For (3), please refer to https://www.tensorflow.org/guide/function#controlling_retracing and https://www.tensorflow.org/api_docs/python/tf/function for  more details.\n",
      "\u001b[1m1/1\u001b[0m \u001b[32m━━━━━━━━━━━━━━━━━━━━\u001b[0m\u001b[37m\u001b[0m \u001b[1m0s\u001b[0m 39ms/step\n",
      "Prediction: [[0.07035457 0.9028228  0.02682256]]\n",
      "class Index [1]\n",
      "Class: Neutral\n"
     ]
    }
   ],
   "source": [
    "import tensorflow as tf\n",
    "\n",
    "## Reshape embeddings \n",
    "print(f\"Original embedding shape: {embedding.shape}\")\n",
    "embedding_reshaped = embedding.reshape(1, -1)\n",
    "print(f\"Dimensions: {embedding_reshaped.shape}\")\n",
    "\n",
    "\n",
    "## Load prediction\n",
    "model = tf.keras.models.load_model(\"model/models/model_v1.keras\")\n",
    "\n",
    "## Perform Prediction\n",
    "prediction = model.predict(embedding_reshaped)\n",
    "classes = [\"Negative\", \"Neutral\", \"Positive\"]\n",
    "print(f\"Prediction: {prediction}\")\n",
    "print(f\"class Index {prediction.argmax(-1)}\")\n",
    "print(f\"Class: {classes[prediction.argmax(-1)[0]]}\")"
   ]
  },
  {
   "cell_type": "code",
   "execution_count": null,
   "id": "20beba55",
   "metadata": {},
   "outputs": [],
   "source": []
  }
 ],
 "metadata": {
  "kernelspec": {
   "display_name": ".venv",
   "language": "python",
   "name": "python3"
  },
  "language_info": {
   "codemirror_mode": {
    "name": "ipython",
    "version": 3
   },
   "file_extension": ".py",
   "mimetype": "text/x-python",
   "name": "python",
   "nbconvert_exporter": "python",
   "pygments_lexer": "ipython3",
   "version": "3.11.11"
  }
 },
 "nbformat": 4,
 "nbformat_minor": 5
}
