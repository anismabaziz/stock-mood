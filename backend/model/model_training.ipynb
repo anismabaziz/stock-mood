{
 "cells": [
  {
   "cell_type": "code",
   "execution_count": 8,
   "id": "8bb05d5d",
   "metadata": {},
   "outputs": [],
   "source": [
    "import pandas as pd\n",
    "from sentence_transformers import SentenceTransformer"
   ]
  },
  {
   "cell_type": "code",
   "execution_count": 27,
   "id": "6091448e",
   "metadata": {},
   "outputs": [
    {
     "data": {
      "text/html": [
       "<div>\n",
       "<style scoped>\n",
       "    .dataframe tbody tr th:only-of-type {\n",
       "        vertical-align: middle;\n",
       "    }\n",
       "\n",
       "    .dataframe tbody tr th {\n",
       "        vertical-align: top;\n",
       "    }\n",
       "\n",
       "    .dataframe thead th {\n",
       "        text-align: right;\n",
       "    }\n",
       "</style>\n",
       "<table border=\"1\" class=\"dataframe\">\n",
       "  <thead>\n",
       "    <tr style=\"text-align: right;\">\n",
       "      <th></th>\n",
       "      <th>text</th>\n",
       "      <th>sentiment</th>\n",
       "      <th>cleaned_text</th>\n",
       "      <th>sentiment_encoded</th>\n",
       "    </tr>\n",
       "  </thead>\n",
       "  <tbody>\n",
       "    <tr>\n",
       "      <th>0</th>\n",
       "      <td>RT @RobertBeadles: Yo💥\\nEnter to WIN 1,000 Mon...</td>\n",
       "      <td>positive</td>\n",
       "      <td>rt robertbeadles yo enter to win 1000 monarch ...</td>\n",
       "      <td>2</td>\n",
       "    </tr>\n",
       "    <tr>\n",
       "      <th>1</th>\n",
       "      <td>#SriLanka surcharge on fuel removed!\\n⛽📉\\nThe ...</td>\n",
       "      <td>negative</td>\n",
       "      <td>srilanka surcharge on fuel removed the surchar...</td>\n",
       "      <td>0</td>\n",
       "    </tr>\n",
       "    <tr>\n",
       "      <th>2</th>\n",
       "      <td>Net issuance increases to fund fiscal programs...</td>\n",
       "      <td>positive</td>\n",
       "      <td>net issuance increases to fund fiscal programs...</td>\n",
       "      <td>2</td>\n",
       "    </tr>\n",
       "    <tr>\n",
       "      <th>3</th>\n",
       "      <td>RT @bentboolean: How much of Amazon's traffic ...</td>\n",
       "      <td>positive</td>\n",
       "      <td>rt bentboolean how much of amazons traffic is ...</td>\n",
       "      <td>2</td>\n",
       "    </tr>\n",
       "    <tr>\n",
       "      <th>4</th>\n",
       "      <td>$AMD Ryzen 4000 desktop CPUs looking ‘great’ a...</td>\n",
       "      <td>positive</td>\n",
       "      <td>amd ryzen 4000 desktop cpus looking great and ...</td>\n",
       "      <td>2</td>\n",
       "    </tr>\n",
       "  </tbody>\n",
       "</table>\n",
       "</div>"
      ],
      "text/plain": [
       "                                                text sentiment  \\\n",
       "0  RT @RobertBeadles: Yo💥\\nEnter to WIN 1,000 Mon...  positive   \n",
       "1  #SriLanka surcharge on fuel removed!\\n⛽📉\\nThe ...  negative   \n",
       "2  Net issuance increases to fund fiscal programs...  positive   \n",
       "3  RT @bentboolean: How much of Amazon's traffic ...  positive   \n",
       "4  $AMD Ryzen 4000 desktop CPUs looking ‘great’ a...  positive   \n",
       "\n",
       "                                        cleaned_text  sentiment_encoded  \n",
       "0  rt robertbeadles yo enter to win 1000 monarch ...                  2  \n",
       "1  srilanka surcharge on fuel removed the surchar...                  0  \n",
       "2  net issuance increases to fund fiscal programs...                  2  \n",
       "3  rt bentboolean how much of amazons traffic is ...                  2  \n",
       "4  amd ryzen 4000 desktop cpus looking great and ...                  2  "
      ]
     },
     "execution_count": 27,
     "metadata": {},
     "output_type": "execute_result"
    }
   ],
   "source": [
    "df = pd.read_csv(\"./data/tweets_post_process.csv\", delimiter=\";\")\n",
    "\n",
    "df.head()"
   ]
  },
  {
   "cell_type": "code",
   "execution_count": 28,
   "id": "129c94c7",
   "metadata": {},
   "outputs": [
    {
     "name": "stderr",
     "output_type": "stream",
     "text": [
      "Xet Storage is enabled for this repo, but the 'hf_xet' package is not installed. Falling back to regular HTTP download. For better performance, install the package with: `pip install huggingface_hub[hf_xet]` or `pip install hf_xet`\n",
      "Batches: 100%|██████████| 41/41 [00:18<00:00,  2.23it/s]\n"
     ]
    }
   ],
   "source": [
    "# load sentence transformers model\n",
    "model = SentenceTransformer('all-mpnet-base-v2')\n",
    "# generate sentence embeddings\n",
    "embeddings = model.encode(df['cleaned_text'].tolist(), show_progress_bar=True)"
   ]
  },
  {
   "cell_type": "code",
   "execution_count": 29,
   "id": "8f783cf8",
   "metadata": {},
   "outputs": [
    {
     "name": "stdout",
     "output_type": "stream",
     "text": [
      "(1300, 768)\n"
     ]
    }
   ],
   "source": [
    "# check embeddings dimensions\n",
    "print(embeddings.shape)"
   ]
  },
  {
   "cell_type": "code",
   "execution_count": 64,
   "id": "e23cf059",
   "metadata": {},
   "outputs": [
    {
     "name": "stdout",
     "output_type": "stream",
     "text": [
      "Training set size: 832\n",
      "Validation set size: 208\n",
      "Test set size: 260\n"
     ]
    }
   ],
   "source": [
    "from sklearn.model_selection import train_test_split\n",
    "\n",
    "# splitting the dataset into train and test and validation sets \n",
    "X_train_val, X_test, y_train_val, y_test = train_test_split(embeddings, df[\"sentiment_encoded\"], test_size=0.2, random_state=42)\n",
    "X_train, X_val, y_train, y_val = train_test_split(X_train_val, y_train_val, test_size=0.2, random_state=42)\n",
    "\n",
    "print(f\"Training set size: {X_train.shape[0]}\")\n",
    "print(f\"Validation set size: {X_val.shape[0]}\")\n",
    "print(f\"Test set size: {X_test.shape[0]}\")"
   ]
  },
  {
   "cell_type": "code",
   "execution_count": 65,
   "id": "2a73ee98",
   "metadata": {},
   "outputs": [
    {
     "name": "stdout",
     "output_type": "stream",
     "text": [
      "(832, 768) (208, 768) (260, 768)\n"
     ]
    }
   ],
   "source": [
    "from sklearn.preprocessing import StandardScaler\n",
    "# scaling\n",
    "scaler = StandardScaler()\n",
    "X_train_scaled = scaler.fit_transform(X_train)\n",
    "X_val_scaled = scaler.transform(X_val)\n",
    "X_test_scaled = scaler.transform(X_test)\n",
    "\n",
    "# checking shapes\n",
    "print(X_train_scaled.shape, X_val_scaled.shape, X_test_scaled.shape)"
   ]
  },
  {
   "cell_type": "code",
   "execution_count": null,
   "id": "d1a52a1f",
   "metadata": {},
   "outputs": [
    {
     "name": "stdout",
     "output_type": "stream",
     "text": [
      "Accuracy: 0.5230769230769231\n",
      "              precision    recall  f1-score   support\n",
      "\n",
      "    negative       0.50      0.47      0.49        78\n",
      "     neutral       0.54      0.50      0.52        88\n",
      "    positive       0.53      0.59      0.56        94\n",
      "\n",
      "    accuracy                           0.52       260\n",
      "   macro avg       0.52      0.52      0.52       260\n",
      "weighted avg       0.52      0.52      0.52       260\n",
      "\n"
     ]
    }
   ],
   "source": [
    "# testing logistic regression model\n",
    "from sklearn.linear_model import LogisticRegression\n",
    "from sklearn.metrics import classification_report, accuracy_score\n",
    "from sklearn.model_selection import GridSearchCV\n",
    "\n",
    "# training\n",
    "log_reg = LogisticRegression(max_iter=500, solver='lbfgs', random_state=42)\n",
    "log_reg.fit(X_train_scaled, y_train)\n",
    "\n",
    "# evaluation\n",
    "y_pred = log_reg.predict(X_test_scaled)\n",
    "print(f\"Accuracy: {accuracy_score(y_test, y_pred)}\")\n",
    "print(\"Classification Report:\")\n",
    "print(classification_report(y_test, y_pred, target_names=['negative', 'neutral', 'positive']))"
   ]
  },
  {
   "cell_type": "code",
   "execution_count": 74,
   "id": "9f600cfe",
   "metadata": {},
   "outputs": [
    {
     "name": "stdout",
     "output_type": "stream",
     "text": [
      "Accuracy: 0.5307692307692308\n",
      "Classification Report:\n",
      "              precision    recall  f1-score   support\n",
      "\n",
      "    negative       0.51      0.62      0.55        78\n",
      "     neutral       0.55      0.44      0.49        88\n",
      "    positive       0.54      0.54      0.54        94\n",
      "\n",
      "    accuracy                           0.53       260\n",
      "   macro avg       0.53      0.53      0.53       260\n",
      "weighted avg       0.53      0.53      0.53       260\n",
      "\n"
     ]
    }
   ],
   "source": [
    "# testing svm model\n",
    "from sklearn.svm import SVC\n",
    "\n",
    "# training\n",
    "svm_model = SVC(kernel='linear', random_state=42)\n",
    "svm_model.fit(X_train_scaled, y_train)\n",
    "\n",
    "# evaluation\n",
    "y_pred = svm_model.predict(X_test_scaled)\n",
    "\n",
    "print(f\"Accuracy: {accuracy_score(y_test, y_pred)}\")\n",
    "print(\"Classification Report:\")\n",
    "print(classification_report(y_test, y_pred, target_names=['negative', 'neutral', 'positive']))"
   ]
  },
  {
   "cell_type": "code",
   "execution_count": 75,
   "id": "e4de7716",
   "metadata": {},
   "outputs": [
    {
     "name": "stderr",
     "output_type": "stream",
     "text": [
      "/Users/abaziz/Documents/programming/portfolio-projects/stock-mood/backend/model/.venv/lib/python3.11/site-packages/xgboost/training.py:183: UserWarning: [11:20:18] WARNING: /Users/runner/work/xgboost/xgboost/src/learner.cc:738: \n",
      "Parameters: { \"use_label_encoder\" } are not used.\n",
      "\n",
      "  bst.update(dtrain, iteration=i, fobj=obj)\n"
     ]
    },
    {
     "name": "stdout",
     "output_type": "stream",
     "text": [
      "Accuracy: 0.5307692307692308\n",
      "Classification Report:\n",
      "              precision    recall  f1-score   support\n",
      "\n",
      "    negative       0.57      0.41      0.48        78\n",
      "     neutral       0.57      0.57      0.57        88\n",
      "    positive       0.48      0.60      0.53        94\n",
      "\n",
      "    accuracy                           0.53       260\n",
      "   macro avg       0.54      0.52      0.53       260\n",
      "weighted avg       0.54      0.53      0.53       260\n",
      "\n"
     ]
    }
   ],
   "source": [
    "# testing xgboost model\n",
    "from xgboost import XGBClassifier\n",
    "\n",
    "xgb = XGBClassifier(\n",
    "    objective='multi:softmax',  \n",
    "    num_class=3,              \n",
    "    eval_metric='mlogloss',     \n",
    "    use_label_encoder=False,\n",
    "    random_state=42             \n",
    ")\n",
    "\n",
    "# training\n",
    "xgb.fit(X_train_scaled, y_train)\n",
    "\n",
    "# evaluation\n",
    "y_pred = xgb.predict(X_test_scaled)\n",
    "print(f\"Accuracy: {accuracy_score(y_test, y_pred)}\")\n",
    "print(\"Classification Report:\")\n",
    "print(classification_report(y_test, y_pred, target_names=['negative', 'neutral', 'positive']))"
   ]
  },
  {
   "cell_type": "code",
   "execution_count": 76,
   "id": "841184e1",
   "metadata": {},
   "outputs": [
    {
     "name": "stdout",
     "output_type": "stream",
     "text": [
      "Accuracy: 0.5423076923076923\n",
      "Classification Report:\n",
      "              precision    recall  f1-score   support\n",
      "\n",
      "    negative       0.54      0.51      0.53        78\n",
      "     neutral       0.56      0.51      0.54        88\n",
      "    positive       0.53      0.60      0.56        94\n",
      "\n",
      "    accuracy                           0.54       260\n",
      "   macro avg       0.54      0.54      0.54       260\n",
      "weighted avg       0.54      0.54      0.54       260\n",
      "\n"
     ]
    }
   ],
   "source": [
    "# testing mlp\n",
    "from sklearn.neural_network import MLPClassifier\n",
    "\n",
    "# training\n",
    "mlp_model = MLPClassifier(hidden_layer_sizes=(128,), activation='relu', solver='adam', max_iter=500, random_state=42)\n",
    "mlp_model.fit(X_train_scaled, y_train)\n",
    "\n",
    "# evaluation\n",
    "y_pred = mlp_model.predict(X_test_scaled)\n",
    "print(f\"Accuracy: {accuracy_score(y_test, y_pred)}\")\n",
    "print(\"Classification Report:\")\n",
    "print(classification_report(y_test, y_pred, target_names=['negative', 'neutral', 'positive']))"
   ]
  }
 ],
 "metadata": {
  "kernelspec": {
   "display_name": ".venv",
   "language": "python",
   "name": "python3"
  },
  "language_info": {
   "codemirror_mode": {
    "name": "ipython",
    "version": 3
   },
   "file_extension": ".py",
   "mimetype": "text/x-python",
   "name": "python",
   "nbconvert_exporter": "python",
   "pygments_lexer": "ipython3",
   "version": "3.11.11"
  }
 },
 "nbformat": 4,
 "nbformat_minor": 5
}
